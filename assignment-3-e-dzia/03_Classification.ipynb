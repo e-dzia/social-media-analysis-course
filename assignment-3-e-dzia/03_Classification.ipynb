{
 "cells": [
  {
   "cell_type": "markdown",
   "metadata": {
    "collapsed": true,
    "pycharm": {
     "name": "#%% md\n"
    }
   },
   "source": [
    "### Cechy do klasyfikacji:\n",
    "- średni sentyment,\n",
    "- liczba postów z kontrowersyjnym hashtagiem,\n",
    "- średnia liczba lajków pod postem,\n",
    "- średnia liczba mentions w poście,\n",
    "- średnia liczba hashtagów w poście,\n",
    "- średnia długość posta (liczba znaków),\n",
    "- replies_count (średnia),\n",
    "- retweets_count (średnia)\n",
    "- date_joined,\n",
    "- num_tweets,\n",
    "- following,\n",
    "- followers,\n",
    "- likes"
   ]
  },
  {
   "cell_type": "code",
   "execution_count": 46,
   "metadata": {
    "pycharm": {
     "is_executing": false,
     "name": "#%%\n"
    }
   },
   "outputs": [],
   "source": [
    "import pandas as pd\n",
    "import sklearn\n",
    "from polyglot.text import Text\n",
    "from sklearn import metrics, svm, tree\n",
    "from sklearn.ensemble import GradientBoostingClassifier\n",
    "from sklearn.naive_bayes import GaussianNB, MultinomialNB, ComplementNB\n",
    "from sklearn.model_selection import train_test_split\n",
    "from sklearn.neighbors import KNeighborsClassifier\n",
    "from sklearn.neural_network import MLPClassifier\n",
    "from sklearn.tree import DecisionTreeClassifier\n",
    "from sklearn import metrics\n",
    "import numpy as np\n",
    "import matplotlib.pyplot as plt\n",
    "import seaborn as sns"
   ]
  },
  {
   "cell_type": "code",
   "execution_count": 2,
   "metadata": {
    "pycharm": {
     "is_executing": false,
     "name": "#%%\n"
    }
   },
   "outputs": [
    {
     "data": {
      "text/plain": [
       "Index(['id', 'conversation_id', 'created_at', 'date', 'time', 'timezone',\n",
       "       'user_id', 'username', 'name', 'place', 'tweet', 'mentions', 'urls',\n",
       "       'photos', 'replies_count', 'retweets_count', 'likes_count', 'hashtags',\n",
       "       'cashtags', 'link', 'retweet', 'quote_url', 'video', 'near', 'geo',\n",
       "       'source', 'user_rt_id', 'user_rt', 'retweet_id', 'reply_to',\n",
       "       'retweet_date'],\n",
       "      dtype='object')"
      ]
     },
     "execution_count": 2,
     "metadata": {},
     "output_type": "execute_result"
    }
   ],
   "source": [
    "tweets = pd.read_csv('file.csv')\n",
    "tweets = tweets[tweets['hashtags'].str.contains('#listabrakujacychlekow|#listabrakującychleków|#listabrakującychlekow|#listabrakujacychleków')]\n",
    "tweets.columns"
   ]
  },
  {
   "cell_type": "code",
   "execution_count": 3,
   "metadata": {
    "pycharm": {
     "is_executing": false,
     "name": "#%%\n"
    }
   },
   "outputs": [
    {
     "data": {
      "text/plain": [
       "Index(['user', 'id', 'fullname', 'date_joined', 'location', 'blog',\n",
       "       'num_tweets', 'following', 'followers', 'likes', 'lists'],\n",
       "      dtype='object')"
      ]
     },
     "execution_count": 3,
     "metadata": {},
     "output_type": "execute_result"
    }
   ],
   "source": [
    "import pickle\n",
    "\n",
    "with open('users_info.pkl', 'rb') as f:\n",
    "    users_info = pickle.load(f)\n",
    "users_info.columns"
   ]
  },
  {
   "cell_type": "code",
   "execution_count": 4,
   "metadata": {
    "pycharm": {
     "is_executing": false,
     "name": "#%%\n"
    }
   },
   "outputs": [
    {
     "name": "stdout",
     "output_type": "stream",
     "text": [
      "Num communities:  4\n"
     ]
    }
   ],
   "source": [
    "with open('partition.pkl', 'rb') as f:\n",
    "    partition = pickle.load(f)\n",
    "    \n",
    "# Delete communities with less than 5 members\n",
    "dict_count = {}\n",
    "for part in partition.values():\n",
    "    if part not in dict_count:\n",
    "        dict_count[part] = 0\n",
    "    dict_count[part] += 1\n",
    "\n",
    "delete = [key for key in partition if dict_count[partition[key]] < 5] \n",
    "for key in delete: del partition[key] \n",
    "\n",
    "print(\"Num communities: \", max(partition.values()) + 1)"
   ]
  },
  {
   "cell_type": "code",
   "execution_count": 5,
   "metadata": {
    "pycharm": {
     "is_executing": false,
     "name": "#%%\n"
    }
   },
   "outputs": [
    {
     "name": "stdout",
     "output_type": "stream",
     "text": [
      "Users:  315\n",
      "Tweets:  817\n"
     ]
    }
   ],
   "source": [
    "print(\"Users: \", len(users_info.values))\n",
    "print(\"Tweets: \", len(tweets.values))"
   ]
  },
  {
   "cell_type": "code",
   "execution_count": 6,
   "metadata": {
    "pycharm": {
     "is_executing": false,
     "name": "#%%\n"
    }
   },
   "outputs": [],
   "source": [
    "def get_sentiment(blob):\n",
    "    text = Text(blob)\n",
    "    text.language = 'pl'\n",
    "    return text.polarity"
   ]
  },
  {
   "cell_type": "code",
   "execution_count": 8,
   "metadata": {
    "pycharm": {
     "is_executing": false,
     "name": "#%%\n"
    }
   },
   "outputs": [
    {
     "data": {
      "text/html": [
       "<div>\n",
       "<style scoped>\n",
       "    .dataframe tbody tr th:only-of-type {\n",
       "        vertical-align: middle;\n",
       "    }\n",
       "\n",
       "    .dataframe tbody tr th {\n",
       "        vertical-align: top;\n",
       "    }\n",
       "\n",
       "    .dataframe thead th {\n",
       "        text-align: right;\n",
       "    }\n",
       "</style>\n",
       "<table border=\"1\" class=\"dataframe\">\n",
       "  <thead>\n",
       "    <tr style=\"text-align: right;\">\n",
       "      <th></th>\n",
       "      <th>user</th>\n",
       "      <th>sentiment_mean</th>\n",
       "      <th>num_posts</th>\n",
       "      <th>likes_mean</th>\n",
       "      <th>mentions_mean</th>\n",
       "      <th>hashtags_mean</th>\n",
       "      <th>tweet_length_mean</th>\n",
       "      <th>replies_mean</th>\n",
       "      <th>retweets_mean</th>\n",
       "      <th>num_tweets_all</th>\n",
       "      <th>num_following</th>\n",
       "      <th>num_followers</th>\n",
       "      <th>num_likes</th>\n",
       "      <th>community</th>\n",
       "    </tr>\n",
       "  </thead>\n",
       "  <tbody>\n",
       "    <tr>\n",
       "      <th>0</th>\n",
       "      <td>ricenola1</td>\n",
       "      <td>-0.200000</td>\n",
       "      <td>5</td>\n",
       "      <td>21.000000</td>\n",
       "      <td>1.200000</td>\n",
       "      <td>1.800000</td>\n",
       "      <td>186.600000</td>\n",
       "      <td>2.000000</td>\n",
       "      <td>5.000000</td>\n",
       "      <td>77171.0</td>\n",
       "      <td>1304.0</td>\n",
       "      <td>4628.0</td>\n",
       "      <td>99295.0</td>\n",
       "      <td>0</td>\n",
       "    </tr>\n",
       "    <tr>\n",
       "      <th>1</th>\n",
       "      <td>grzela60</td>\n",
       "      <td>0.037037</td>\n",
       "      <td>54</td>\n",
       "      <td>3.444444</td>\n",
       "      <td>1.888889</td>\n",
       "      <td>1.648148</td>\n",
       "      <td>143.870370</td>\n",
       "      <td>0.351852</td>\n",
       "      <td>0.537037</td>\n",
       "      <td>34663.0</td>\n",
       "      <td>552.0</td>\n",
       "      <td>758.0</td>\n",
       "      <td>30729.0</td>\n",
       "      <td>0</td>\n",
       "    </tr>\n",
       "    <tr>\n",
       "      <th>2</th>\n",
       "      <td>martinswidersky</td>\n",
       "      <td>-0.100000</td>\n",
       "      <td>10</td>\n",
       "      <td>11.500000</td>\n",
       "      <td>1.800000</td>\n",
       "      <td>7.700000</td>\n",
       "      <td>253.700000</td>\n",
       "      <td>1.300000</td>\n",
       "      <td>4.200000</td>\n",
       "      <td>0.0</td>\n",
       "      <td>0.0</td>\n",
       "      <td>0.0</td>\n",
       "      <td>0.0</td>\n",
       "      <td>0</td>\n",
       "    </tr>\n",
       "    <tr>\n",
       "      <th>3</th>\n",
       "      <td>magdakodds</td>\n",
       "      <td>0.023810</td>\n",
       "      <td>28</td>\n",
       "      <td>6.714286</td>\n",
       "      <td>1.321429</td>\n",
       "      <td>2.857143</td>\n",
       "      <td>198.607143</td>\n",
       "      <td>0.321429</td>\n",
       "      <td>1.214286</td>\n",
       "      <td>34712.0</td>\n",
       "      <td>1932.0</td>\n",
       "      <td>2109.0</td>\n",
       "      <td>95839.0</td>\n",
       "      <td>0</td>\n",
       "    </tr>\n",
       "    <tr>\n",
       "      <th>4</th>\n",
       "      <td>_drugie_konto</td>\n",
       "      <td>0.250000</td>\n",
       "      <td>16</td>\n",
       "      <td>1.062500</td>\n",
       "      <td>1.625000</td>\n",
       "      <td>1.312500</td>\n",
       "      <td>123.687500</td>\n",
       "      <td>0.125000</td>\n",
       "      <td>0.062500</td>\n",
       "      <td>11926.0</td>\n",
       "      <td>141.0</td>\n",
       "      <td>180.0</td>\n",
       "      <td>5017.0</td>\n",
       "      <td>0</td>\n",
       "    </tr>\n",
       "  </tbody>\n",
       "</table>\n",
       "</div>"
      ],
      "text/plain": [
       "              user  sentiment_mean num_posts  likes_mean  mentions_mean  \\\n",
       "0        ricenola1       -0.200000         5   21.000000       1.200000   \n",
       "1         grzela60        0.037037        54    3.444444       1.888889   \n",
       "2  martinswidersky       -0.100000        10   11.500000       1.800000   \n",
       "3       magdakodds        0.023810        28    6.714286       1.321429   \n",
       "4    _drugie_konto        0.250000        16    1.062500       1.625000   \n",
       "\n",
       "   hashtags_mean  tweet_length_mean  replies_mean  retweets_mean  \\\n",
       "0       1.800000         186.600000      2.000000       5.000000   \n",
       "1       1.648148         143.870370      0.351852       0.537037   \n",
       "2       7.700000         253.700000      1.300000       4.200000   \n",
       "3       2.857143         198.607143      0.321429       1.214286   \n",
       "4       1.312500         123.687500      0.125000       0.062500   \n",
       "\n",
       "   num_tweets_all  num_following  num_followers  num_likes community  \n",
       "0         77171.0         1304.0         4628.0    99295.0         0  \n",
       "1         34663.0          552.0          758.0    30729.0         0  \n",
       "2             0.0            0.0            0.0        0.0         0  \n",
       "3         34712.0         1932.0         2109.0    95839.0         0  \n",
       "4         11926.0          141.0          180.0     5017.0         0  "
      ]
     },
     "execution_count": 8,
     "metadata": {},
     "output_type": "execute_result"
    }
   ],
   "source": [
    "users = pd.DataFrame(columns=['user', 'sentiment_mean', 'num_posts', 'likes_mean', \n",
    "                              'mentions_mean', 'hashtags_mean', \n",
    "                              'tweet_length_mean', 'replies_mean', \n",
    "                              'retweets_mean', 'num_tweets_all', \n",
    "                              'num_following', 'num_followers',\n",
    "                              'num_likes', 'community'])\n",
    "for user in tweets['username'].unique():\n",
    "    user_columns = {}\n",
    "    username = ''\n",
    "    if type(user) == str:\n",
    "        username = user.lower()\n",
    "    if username in partition:\n",
    "        user_tweets = tweets[tweets.username == username]\n",
    "        user_info = users_info[users_info.user == user]\n",
    "        user_columns['user'] = user\n",
    "        user_columns['sentiment_mean'] = user_tweets['tweet'].apply(get_sentiment).mean()\n",
    "        user_columns['num_posts'] = len(user_tweets)\n",
    "        user_columns['likes_mean'] = user_tweets['likes_count'].mean()\n",
    "        user_columns['mentions_mean'] = user_tweets['mentions'].apply(\n",
    "            lambda x: len(x.replace(\"[\", '').replace(\"]\", '').split())\n",
    "        ).mean()\n",
    "        user_columns['hashtags_mean'] = user_tweets['hashtags'].apply(\n",
    "            lambda x: len(x.replace(\"[\", '').replace(\"]\", '').split())\n",
    "        ).mean()\n",
    "        user_columns['tweet_length_mean'] = user_tweets['tweet'].str.len().mean()\n",
    "        user_columns['replies_mean'] = user_tweets['replies_count'].mean()\n",
    "        user_columns['retweets_mean'] = user_tweets['retweets_count'].mean()\n",
    "        user_columns['num_tweets_all'] = user_info['num_tweets'].sum()\n",
    "        user_columns['num_following'] = user_info['following'].sum()\n",
    "        user_columns['num_followers'] = user_info['followers'].sum()\n",
    "        user_columns['num_likes'] = user_info['likes'].sum()\n",
    "        user_columns['community'] = partition[username]\n",
    "        users = users.append(user_columns, ignore_index=True)\n",
    "users.head()"
   ]
  },
  {
   "cell_type": "code",
   "execution_count": 9,
   "metadata": {
    "pycharm": {
     "is_executing": false,
     "name": "#%%\n"
    }
   },
   "outputs": [],
   "source": [
    "def split_data(dataset):\n",
    "    # split into train and test sets\n",
    "    train_set, test_set = train_test_split(dataset, test_size=0.2, \n",
    "                                           random_state=42, stratify=dataset['community'])\n",
    "\n",
    "    # extract labels\n",
    "    train_set_labels = train_set[\"community\"].copy()\n",
    "    train_set = train_set.drop(\"community\", axis=1)\n",
    "\n",
    "    test_set_labels = test_set[\"community\"].copy()\n",
    "    test_set = test_set.drop(\"community\", axis=1)\n",
    "\n",
    "    return train_set, train_set_labels, test_set, test_set_labels\n",
    "\n",
    "def evaluate(labels_true, labels_predicted):\n",
    "    accuracy = metrics.accuracy_score(y_true=labels_true, y_pred=labels_predicted)\n",
    "    precision = metrics.precision_score(y_true=labels_true, y_pred=labels_predicted, average='micro')\n",
    "    recall = metrics.recall_score(y_true=labels_true, y_pred=labels_predicted, average='micro')\n",
    "    f1 = metrics.f1_score(y_true=labels_true, y_pred=labels_predicted, average='micro')\n",
    "\n",
    "    return accuracy, precision, recall, f1"
   ]
  },
  {
   "cell_type": "code",
   "execution_count": 50,
   "metadata": {
    "pycharm": {
     "is_executing": false,
     "name": "#%%\n"
    }
   },
   "outputs": [
    {
     "name": "stdout",
     "output_type": "stream",
     "text": [
      "0.5161290322580645 0.5161290322580645 0.5161290322580645 0.5161290322580645\n"
     ]
    }
   ],
   "source": [
    "users_noname = users.drop('user', axis=1)\n",
    "x_train, y_train, x_test, y_test = split_data(users_noname)\n",
    "# clf = GaussianNB()  # 0.322\n",
    "# clf = svm.SVC(gamma='scale', decision_function_shape='ovo')  # 0.435\n",
    "# clf = KNeighborsClassifier(n_neighbors=5)  # 0.516\n",
    "# clf = tree.DecisionTreeClassifier()  # 0.5\n",
    "# clf = GradientBoostingClassifier(n_estimators=100, learning_rate=1.0,\n",
    "#     max_depth=1, random_state=0)  # 0.483\n",
    "clf = DecisionTreeClassifier(max_depth=None, min_samples_split=2,\n",
    "    random_state=0)  # 0.516\n",
    "# clf = sklearn.ensemble.RandomForestClassifier()  # 0.403\n",
    "# clf = MLPClassifier(solver='lbfgs', alpha=1e-5,\n",
    "#                     hidden_layer_sizes=(5, 2), random_state=1)  # 0.322\n",
    "y_train = y_train.astype('int')\n",
    "y_test = y_test.astype('int')\n",
    "clf = clf.fit(x_train, y_train)\n",
    "y_pred = clf.predict(x_test)\n",
    "accuracy, precision, recall, f1 = evaluate(y_test.values.tolist(), y_pred)\n",
    "print(accuracy, precision, recall, f1)\n"
   ]
  },
  {
   "cell_type": "code",
   "execution_count": 51,
   "metadata": {
    "pycharm": {
     "is_executing": false,
     "name": "#%%\n"
    }
   },
   "outputs": [],
   "source": [
    "def plot_confusion_matrix(y_test, y_pred):\n",
    "    conf_matrix = metrics.confusion_matrix(y_true=y_test, y_pred=y_pred)\n",
    "    conf_matrix = np.around(conf_matrix.astype('float') / conf_matrix.sum(axis=1)[:, np.newaxis], decimals=2)\n",
    "\n",
    "    fig, ax = plt.subplots(figsize=(8,8))   \n",
    "    ax = sns.heatmap(conf_matrix, cmap=\"PiYG\", annot=True, center=0)\n",
    "   "
   ]
  },
  {
   "cell_type": "code",
   "execution_count": 52,
   "metadata": {
    "pycharm": {
     "is_executing": false,
     "name": "#%%\n"
    }
   },
   "outputs": [
    {
     "data": {
      "image/png": "[encoded data removed]",
      "text/plain": [
       "<Figure size 576x576 with 2 Axes>"
      ]
     },
     "metadata": {
      "needs_background": "light"
     },
     "output_type": "display_data"
    }
   ],
   "source": [
    "plot_confusion_matrix(y_test=y_test, y_pred=y_pred)"
   ]
  },
  {
   "cell_type": "code",
   "execution_count": 53,
   "metadata": {
    "pycharm": {
     "is_executing": false,
     "name": "#%%\n"
    }
   },
   "outputs": [
    {
     "data": {
      "text/plain": [
       "<matplotlib.axes._subplots.AxesSubplot at 0x15014dd8>"
      ]
     },
     "execution_count": 53,
     "metadata": {},
     "output_type": "execute_result"
    },
    {
     "data": {
      "image/png": "[encoded data removed]",
      "text/plain": [
       "<Figure size 432x288 with 1 Axes>"
      ]
     },
     "metadata": {
      "needs_background": "light"
     },
     "output_type": "display_data"
    }
   ],
   "source": [
    "users['community'].value_counts().plot(kind='bar')"
   ]
  },
  {
   "cell_type": "code",
   "execution_count": 54,
   "metadata": {
    "pycharm": {
     "is_executing": false,
     "name": "#%%\n"
    }
   },
   "outputs": [
    {
     "data": {
      "text/html": [
       "<div>\n",
       "<style scoped>\n",
       "    .dataframe tbody tr th:only-of-type {\n",
       "        vertical-align: middle;\n",
       "    }\n",
       "\n",
       "    .dataframe tbody tr th {\n",
       "        vertical-align: top;\n",
       "    }\n",
       "\n",
       "    .dataframe thead th {\n",
       "        text-align: right;\n",
       "    }\n",
       "</style>\n",
       "<table border=\"1\" class=\"dataframe\">\n",
       "  <thead>\n",
       "    <tr style=\"text-align: right;\">\n",
       "      <th></th>\n",
       "      <th>user</th>\n",
       "      <th>community</th>\n",
       "    </tr>\n",
       "  </thead>\n",
       "  <tbody>\n",
       "    <tr>\n",
       "      <th>246</th>\n",
       "      <td>kobywatelska</td>\n",
       "      <td>3</td>\n",
       "    </tr>\n",
       "  </tbody>\n",
       "</table>\n",
       "</div>"
      ],
      "text/plain": [
       "             user community\n",
       "246  kobywatelska         3"
      ]
     },
     "execution_count": 54,
     "metadata": {},
     "output_type": "execute_result"
    }
   ],
   "source": [
    "users[users.user == 'kobywatelska'][['user', 'community']]"
   ]
  },
  {
   "cell_type": "code",
   "execution_count": null,
   "metadata": {
    "pycharm": {
     "name": "#%%\n"
    }
   },
   "outputs": [],
   "source": [
    "\n"
   ]
  }
 ],
 "metadata": {
  "kernelspec": {
   "display_name": "Python 3",
   "language": "python",
   "name": "python3"
  },
  "language_info": {
   "codemirror_mode": {
    "name": "ipython",
    "version": 3
   },
   "file_extension": ".py",
   "mimetype": "text/x-python",
   "name": "python",
   "nbconvert_exporter": "python",
   "pygments_lexer": "ipython3",
   "version": "3.6.8"
  },
  "pycharm": {
   "stem_cell": {
    "cell_type": "raw",
    "metadata": {
     "collapsed": false
    },
    "source": []
   }
  }
 },
 "nbformat": 4,
 "nbformat_minor": 1
}
